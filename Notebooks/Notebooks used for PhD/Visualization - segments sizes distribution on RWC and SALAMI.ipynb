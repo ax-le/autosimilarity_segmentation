{
 "cells": [
  {
   "cell_type": "code",
   "execution_count": 2,
   "metadata": {
    "ExecuteTime": {
     "end_time": "2022-10-21T12:41:07.840547Z",
     "start_time": "2022-10-21T12:41:04.716843Z"
    }
   },
   "outputs": [],
   "source": [
    "import as_seg.scripts.default_path as paths\n",
    "import as_seg.scripts.overall_scripts as scr\n",
    "import as_seg.CBM_algorithm as CBM\n",
    "import as_seg.data_manipulation as dm\n",
    "from as_seg.model.current_plot import *\n",
    "\n",
    "import numpy as np\n",
    "import matplotlib.pyplot as plt\n",
    "import matplotlib.cm as cm\n",
    "import mirdata\n",
    "import os"
   ]
  },
  {
   "cell_type": "code",
   "execution_count": 3,
   "metadata": {
    "ExecuteTime": {
     "end_time": "2022-10-21T12:41:10.326977Z",
     "start_time": "2022-10-21T12:41:07.858501Z"
    }
   },
   "outputs": [
    {
     "name": "stdout",
     "output_type": "stream",
     "text": [
      "115.34\n"
     ]
    }
   ],
   "source": [
    "import musicae.scripts.default_path as paths\n",
    "\n",
    "annotations_folder = \"{}/MIREX10\".format(paths.path_annotation_rwc)\n",
    "paths_dataset = scr.load_RWC_dataset(paths.path_entire_rwc, \"MIREX10\")\n",
    "number_bars = 0\n",
    "for song_and_annotations in paths_dataset:\n",
    "    song_number = song_and_annotations[0]\n",
    "    bars = scr.load_or_save_bars(paths.path_data_persisted_rwc, \"{}/{}.wav\".format(paths.path_entire_rwc, song_number))\n",
    "    number_bars += len(bars)\n",
    "        \n",
    "print(number_bars/100)\n"
   ]
  },
  {
   "cell_type": "code",
   "execution_count": 6,
   "metadata": {
    "ExecuteTime": {
     "end_time": "2022-10-21T12:41:31.496219Z",
     "start_time": "2022-10-21T12:41:31.490233Z"
    }
   },
   "outputs": [],
   "source": [
    "def this_plot_lenghts_hist(lengths):\n",
    "    fig, axs = plt.subplots(1, 1, figsize=(6, 2))\n",
    "    axs.hist(lengths, bins = range(1,34), density = True, cumulative = False, align = \"left\")\n",
    "    plt.xticks(np.concatenate([[1],range(4, 34, 4)]))\n",
    "    plt.ylim(0,0.4)\n",
    "\n",
    "    axs.set_xlabel(\"Size of the segment, in number of bars\")\n",
    "    axs.set_ylabel(\"Proportion\\namong all segments\")\n",
    "    fig.savefig(f\"Repartition_todefine.pdf\", bbox_inches = \"tight\")#, format='png')\n",
    "\n",
    "    plt.show()"
   ]
  },
  {
   "cell_type": "code",
   "execution_count": 7,
   "metadata": {
    "ExecuteTime": {
     "end_time": "2022-10-21T12:41:36.655337Z",
     "start_time": "2022-10-21T12:41:35.023557Z"
    },
    "scrolled": false
   },
   "outputs": [
    {
     "name": "stdout",
     "output_type": "stream",
     "text": [
      "70 not found, normal ?\n"
     ]
    },
    {
     "data": {
      "image/png": "[encoded data removed]",
      "text/plain": [
       "<Figure size 432x144 with 1 Axes>"
      ]
     },
     "metadata": {
      "needs_background": "light"
     },
     "output_type": "display_data"
    }
   ],
   "source": [
    "plt.rcParams.update({'font.size': 12})\n",
    "\n",
    "salami = mirdata.initialize('salami', data_home = paths.path_entire_salami)\n",
    "len_salami = len(salami.track_ids)\n",
    "\n",
    "lengths = []\n",
    "\n",
    "all_tracks = salami.load_tracks()\n",
    "\n",
    "song_idx = 0\n",
    "\n",
    "file_test_set_gs = open(f\"{os.getcwd()}/test_set_salami_gs.txt\")\n",
    "\n",
    "test_dataset = []\n",
    "for part in file_test_set_gs.readlines():\n",
    "    line_broken = part.split(\"\\n\")\n",
    "    test_dataset.append(int(line_broken[0]))\n",
    "\n",
    "for key, track in all_tracks.items():\n",
    "    if int(key) in test_dataset:\n",
    "        try:\n",
    "            bars = scr.load_or_save_bars(paths.path_data_persisted_salami, track.audio_path)\n",
    "            ref_tab = []\n",
    "            try:\n",
    "                references_segments = salami.load_sections(track.sections_annotator1_uppercase_path).intervals\n",
    "                ref_tab.append(references_segments)\n",
    "            except (TypeError, AttributeError):\n",
    "                pass\n",
    "\n",
    "            try:\n",
    "                references_segments = salami.load_sections(track.sections_annotator2_uppercase_path).intervals\n",
    "                ref_tab.append(references_segments)\n",
    "            except (TypeError, AttributeError):\n",
    "                pass\n",
    "            for annotations in ref_tab:\n",
    "                barwise_annot = dm.frontiers_from_time_to_bar(np.array(annotations)[:,1], bars)\n",
    "                for i in range(len(barwise_annot) - 1):\n",
    "                    lengths.append(barwise_annot[i+1] - barwise_annot[i])\n",
    "                        \n",
    "\n",
    "        except FileNotFoundError:\n",
    "            print(f\"{key} not found, normal ?\")\n",
    "\n",
    "this_plot_lenghts_hist(lengths)\n"
   ]
  },
  {
   "cell_type": "code",
   "execution_count": 9,
   "metadata": {
    "ExecuteTime": {
     "end_time": "2022-03-30T13:09:04.849616Z",
     "start_time": "2022-03-30T13:09:04.394588Z"
    }
   },
   "outputs": [
    {
     "data": {
      "image/png": "[encoded data removed]",
      "text/plain": [
       "<Figure size 432x432 with 1 Axes>"
      ]
     },
     "metadata": {
      "needs_background": "light"
     },
     "output_type": "display_data"
    }
   ],
   "source": [
    "plt.rcParams.update({'font.size': 12})\n",
    "\n",
    "annotations_folder = \"{}/MIREX10\".format(paths.path_annotation_rwc)\n",
    "paths_dataset = scr.load_RWC_dataset(paths.path_entire_rwc, \"MIREX10\")\n",
    "lengths = []\n",
    "\n",
    "song_idx = 0\n",
    "\n",
    "for song_and_annotations in paths_dataset:\n",
    "    song_number = song_and_annotations[0]\n",
    "    annot_path = \"{}/{}\".format(annotations_folder, song_and_annotations[1])\n",
    "    annotations = dm.get_segmentation_from_txt(annot_path, \"MIREX10\")\n",
    "    bars = scr.load_or_save_bars(paths.path_data_persisted_rwc, \"{}/{}.wav\".format(paths.path_entire_rwc, song_number))\n",
    "    barwise_annot = dm.frontiers_from_time_to_bar(np.array(annotations)[:,1], bars)\n",
    "    for i in range(len(barwise_annot) - 1):\n",
    "        lengths.append(barwise_annot[i+1] - barwise_annot[i])\n",
    "        \n",
    "plot_lenghts_hist(lengths)\n"
   ]
  },
  {
   "cell_type": "code",
   "execution_count": null,
   "metadata": {
    "ExecuteTime": {
     "end_time": "2022-03-30T13:07:10.418872Z",
     "start_time": "2022-03-30T13:07:10.418872Z"
    }
   },
   "outputs": [],
   "source": [
    "arr = plt.hist(lengths, bins = range(0,40), density = True, cumulative = False, align = \"left\")[0]\n",
    "0.1 * (1/(arr/np.amax(arr)) - 1)"
   ]
  }
 ],
 "metadata": {
  "kernelspec": {
   "display_name": "Python 3 (ipykernel)",
   "language": "python",
   "name": "python3"
  },
  "language_info": {
   "codemirror_mode": {
    "name": "ipython",
    "version": 3
   },
   "file_extension": ".py",
   "mimetype": "text/x-python",
   "name": "python",
   "nbconvert_exporter": "python",
   "pygments_lexer": "ipython3",
   "version": "3.8.12"
  },
  "toc": {
   "base_numbering": 1,
   "nav_menu": {},
   "number_sections": true,
   "sideBar": true,
   "skip_h1_title": false,
   "title_cell": "Table of Contents",
   "title_sidebar": "Contents",
   "toc_cell": false,
   "toc_position": {},
   "toc_section_display": true,
   "toc_window_display": false
  },
  "varInspector": {
   "cols": {
    "lenName": 16,
    "lenType": 16,
    "lenVar": 40
   },
   "kernels_config": {
    "python": {
     "delete_cmd_postfix": "",
     "delete_cmd_prefix": "del ",
     "library": "var_list.py",
     "varRefreshCmd": "print(var_dic_list())"
    },
    "r": {
     "delete_cmd_postfix": ") ",
     "delete_cmd_prefix": "rm(",
     "library": "var_list.r",
     "varRefreshCmd": "cat(var_dic_list()) "
    }
   },
   "types_to_exclude": [
    "module",
    "function",
    "builtin_function_or_method",
    "instance",
    "_Feature"
   ],
   "window_display": false
  }
 },
 "nbformat": 4,
 "nbformat_minor": 4
}
