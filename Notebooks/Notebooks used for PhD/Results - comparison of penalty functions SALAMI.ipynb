{
 "cells": [
  {
   "cell_type": "code",
   "execution_count": 1,
   "id": "b3e353df",
   "metadata": {
    "ExecuteTime": {
     "end_time": "2022-10-01T15:43:57.147899Z",
     "start_time": "2022-10-01T15:43:51.809176Z"
    }
   },
   "outputs": [],
   "source": [
    "import as_seg.scripts.default_path as paths\n",
    "import as_seg.scripts.overall_scripts as scr\n",
    "import as_seg.data_manipulation as dm\n",
    "import as_seg.CBM_algorithm as CBM\n",
    "import as_seg.autosimilarity_computation as as_comp\n",
    "import as_seg.barwise_input as bi\n",
    "from as_seg.model.current_plot import *\n",
    "\n",
    "import math\n",
    "import numpy as np\n",
    "import pandas as pd\n",
    "import mirdata\n",
    "import os\n",
    "import tensorly as tl"
   ]
  },
  {
   "cell_type": "code",
   "execution_count": 2,
   "id": "f97eac92",
   "metadata": {
    "ExecuteTime": {
     "end_time": "2022-10-01T15:43:57.163856Z",
     "start_time": "2022-10-01T15:43:57.151887Z"
    }
   },
   "outputs": [],
   "source": [
    "colors = ['tab:green', 'tab:purple','tab:red','tab:olive']\n",
    "markers = ['^', 's', 'o','v']\n",
    "\n",
    "bands_numbers = [None, 15]\n",
    "autosimilarity_types = [\"RBF\"]#[\"Cosine\", \"Covariance\", \"RBF\"]\n",
    "penalty_functions = [\"Nope\", \"target_deviation_8_alpha_half\",\"target_deviation_8_alpha_one\",\"target_deviation_8_alpha_two\", \"modulo8\"]#[\"Nope\", \"modulo_oracle_salami\"]\n",
    "penalty_functions_labels = [\"No penalty\", \"Target deviation\\n$\\\\alpha = 1/2$\",\"Target deviation\\n$\\\\alpha = 1$\",\"Target deviation\\n$\\\\alpha = 2$\", \"Modulo 8\"]#[\"Nope\", \"modulo_oracle_salami\"]\n",
    "#penalty_functions_target =  [\"Nope\", \"target_deviation_8_alpha_half\", \"target_deviation_8_alpha_one\", \"target_deviation_8_alpha_two\"]#[\"Nope\", \"modulo_oracle_salami\"]\n",
    "feature = \"log_mel_grill\"\n",
    "\n",
    "lambda_range = np.concatenate([np.arange(0.1, 2.1, 0.1)])"
   ]
  },
  {
   "cell_type": "code",
   "execution_count": 3,
   "id": "0cd7215f",
   "metadata": {
    "ExecuteTime": {
     "end_time": "2022-10-01T15:43:57.241647Z",
     "start_time": "2022-10-01T15:43:57.167845Z"
    }
   },
   "outputs": [],
   "source": [
    "def learn_and_test_salami(lambda_range, feature = \"log_mel_grill\", autosimilarity_type = \"cosine\", bands_number = 15, penalty_func = \"modulo8\"):\n",
    "    \"\"\"\n",
    "    Learning the latent space dimension on the non-test subset of the SALAMI dataset, and computes the results on the SALAMI test-dataset.\n",
    "    \"\"\"\n",
    "    salami = mirdata.initialize('salami', data_home = paths.path_entire_salami)\n",
    "    len_salami = len(salami.track_ids)\n",
    "    \n",
    "    results_songs_lambdas = -math.inf * np.ones((len_salami, len(lambda_range), 2, 3))\n",
    "    lengths_all_lambda = []\n",
    "    for i in range(len(lambda_range)):\n",
    "        lengths_all_lambda.append([])\n",
    "        \n",
    "    hop_length = 32\n",
    "    hop_length_seconds = hop_length/44100\n",
    "    subdivision_bars = 96\n",
    "    \n",
    "    all_tracks = salami.load_tracks()    \n",
    "    song_idx = 0\n",
    "    file_mirex = open(f\"{os.getcwd()}/test_set_salami_gs.txt\")\n",
    "\n",
    "    test_dataset = []\n",
    "    for part in file_mirex.readlines():\n",
    "        line_broken = part.split(\"\\n\")\n",
    "        test_dataset.append(int(line_broken[0]))\n",
    "            \n",
    "    for key, track in all_tracks.items():\n",
    "        if int(key) not in test_dataset: # Every other file than the test dataset\n",
    "            try:\n",
    "                bars = scr.load_or_save_bars(paths.path_data_persisted_salami, track.audio_path)\n",
    "                tensor_barwise = scr.load_or_save_tensor_spectrogram(paths.path_data_persisted_salami, track.audio_path, feature, hop_length, subdivision_bars)\n",
    "                barwise_TF_matrix = tl.unfold(tensor_barwise, 0)\n",
    "                              \n",
    "                ref_tab = []\n",
    "                try:\n",
    "                    references_segments = salami.load_sections(track.sections_annotator1_uppercase_path).intervals\n",
    "                    ref_tab.append(references_segments)\n",
    "                except (TypeError, AttributeError):\n",
    "                    pass\n",
    "\n",
    "                try:\n",
    "                    references_segments = salami.load_sections(track.sections_annotator2_uppercase_path).intervals\n",
    "                    ref_tab.append(references_segments)\n",
    "                except (TypeError, AttributeError):\n",
    "                    pass\n",
    "                try:\n",
    "                    autosimilarity_barTF_matrix = as_comp.switch_autosimilarity(barwise_TF_matrix, similarity_type = autosimilarity_type, normalise = True)\n",
    "                    for idx_lambda, lambda_penalty in enumerate(lambda_range):\n",
    "                        segments = CBM.compute_cbm(autosimilarity_barTF_matrix, penalty_weight = lambda_penalty, penalty_func = penalty_func, bands_number = bands_number)[0]                \n",
    "                        segments_in_time = dm.segments_from_bar_to_time(segments, bars)\n",
    "                        for end, start in segments:\n",
    "                            lengths_all_lambda[idx_lambda].append(start - end)\n",
    "                        prec05, rap05, f_mes05 = dm.compute_score_of_segmentation(ref_tab[0], segments_in_time, window_length = 0.5)\n",
    "                        prec3, rap3, f_mes3 = dm.compute_score_of_segmentation(ref_tab[0], segments_in_time, window_length = 3)\n",
    "                        this_score = [[round(prec05,4),round(rap05,4),round(f_mes05,4)], [round(prec3,4),round(rap3,4),round(f_mes3,4)]]\n",
    "\n",
    "                        if len(ref_tab) > 1:\n",
    "                            nd_prec05, nd_rap05, nd_f_mes05 = dm.compute_score_of_segmentation(ref_tab[1], segments_in_time, window_length = 0.5)\n",
    "                            nd_prec3, nd_rap3, nd_f_mes3 = dm.compute_score_of_segmentation(ref_tab[1], segments_in_time, window_length = 3)\n",
    "                            if nd_f_mes05 + nd_f_mes3 > f_mes05 + f_mes3:\n",
    "                                this_score = [[round(nd_prec05,4),round(nd_rap05,4),round(nd_f_mes05,4)], [round(nd_prec3,4),round(nd_rap3,4),round(nd_f_mes3,4)]]\n",
    "                        results_songs_lambdas[song_idx, idx_lambda] = np.array(this_score)\n",
    "                    song_idx += 1\n",
    "                except TypeError:\n",
    "                    print(f\"Error in learning at song {key}, {track}\")\n",
    "                \n",
    "            except FileNotFoundError:\n",
    "                print(f\"{key} not found, normal ?\")\n",
    "                \n",
    "    #for idx_lambda, lambda_penalty in enumerate(lambda_range):\n",
    "        #print(lambda_penalty)\n",
    "        #plot_lenghts_hist(lengths_all_lambda[idx_lambda])\n",
    "\n",
    "    avg_songs = [np.mean(results_songs_lambdas[:song_idx, i, 0, 2]) + np.mean(results_songs_lambdas[:song_idx, i, 1, 2]) for i in range(len(lambda_range))]\n",
    "    best_lambda_idx = np.argmax(avg_songs)\n",
    "    print(f\"Best lambda: {lambda_range[best_lambda_idx]}\")\n",
    "\n",
    "    return fixed_conditions_results_salami(lambda_range[best_lambda_idx], feature = feature, autosimilarity_type = autosimilarity_type, bands_number = bands_number, penalty_func = penalty_func)    \n",
    "\n",
    "def fixed_conditions_results_salami(lambda_penalty, feature = \"log_mel_grill\", autosimilarity_type = \"cosine\", bands_number = 15, penalty_func = \"modulo8\"):\n",
    "    salami = mirdata.initialize('salami', data_home = paths.path_entire_salami)\n",
    "    len_salami = len(salami.track_ids)\n",
    "    lengths = []\n",
    "    results = -math.inf * np.ones((len_salami, 2, 3))\n",
    "    \n",
    "    hop_length = 32\n",
    "    hop_length_seconds = hop_length/44100\n",
    "    subdivision_bars = 96\n",
    "    \n",
    "    all_tracks = salami.load_tracks()\n",
    "    \n",
    "    song_idx = 0\n",
    "    \n",
    "    file_test_set_gs = open(f\"{os.getcwd()}/test_set_salami_gs.txt\")\n",
    "\n",
    "    test_dataset = []\n",
    "    for part in file_test_set_gs.readlines():\n",
    "        line_broken = part.split(\"\\n\")\n",
    "        test_dataset.append(int(line_broken[0]))\n",
    "\n",
    "    for key, track in all_tracks.items():\n",
    "        if int(key) in test_dataset:\n",
    "            try:               \n",
    "                bars = scr.load_or_save_bars(paths.path_data_persisted_salami, track.audio_path)\n",
    "                tensor_barwise = scr.load_or_save_tensor_spectrogram(paths.path_data_persisted_salami, track.audio_path, feature, hop_length, subdivision_bars)\n",
    "                barwise_TF_matrix = tl.unfold(tensor_barwise, 0)\n",
    "  \n",
    "                ref_tab = []\n",
    "                try:\n",
    "                    references_segments = salami.load_sections(track.sections_annotator1_uppercase_path).intervals\n",
    "                    ref_tab.append(references_segments)\n",
    "                except (TypeError, AttributeError):\n",
    "                    pass\n",
    "                    \n",
    "                try:\n",
    "                    references_segments = salami.load_sections(track.sections_annotator2_uppercase_path).intervals\n",
    "                    ref_tab.append(references_segments)\n",
    "                except (TypeError, AttributeError):\n",
    "                    pass\n",
    "                try:\n",
    "                    autosimilarity_barTF_matrix = as_comp.switch_autosimilarity(barwise_TF_matrix, similarity_type = autosimilarity_type, normalise = True)\n",
    "                    segments = CBM.compute_cbm(autosimilarity_barTF_matrix, penalty_weight = lambda_penalty, penalty_func = penalty_func, bands_number = bands_number)[0]                \n",
    "                    segments_in_time = dm.segments_from_bar_to_time(segments, bars)\n",
    "                    for end, start in segments:\n",
    "                        lengths.append(start - end)\n",
    "\n",
    "                    prec05, rap05, f_mes05 = dm.compute_score_of_segmentation(ref_tab[0], segments_in_time, window_length = 0.5)\n",
    "                    prec3, rap3, f_mes3 = dm.compute_score_of_segmentation(ref_tab[0], segments_in_time, window_length = 3)\n",
    "                    this_score = [[round(prec05,4),round(rap05,4),round(f_mes05,4)], [round(prec3,4),round(rap3,4),round(f_mes3,4)]]\n",
    "\n",
    "                    if len(ref_tab) > 1:\n",
    "                        nd_prec05, nd_rap05, nd_f_mes05 = dm.compute_score_of_segmentation(ref_tab[1], segments_in_time, window_length = 0.5)\n",
    "                        nd_prec3, nd_rap3, nd_f_mes3 = dm.compute_score_of_segmentation(ref_tab[1], segments_in_time, window_length = 3)\n",
    "                        if nd_f_mes05 + nd_f_mes3 > f_mes05 + f_mes3:\n",
    "                            this_score = [[round(nd_prec05,4),round(nd_rap05,4),round(nd_f_mes05,4)], [round(nd_prec3,4),round(nd_rap3,4),round(nd_f_mes3,4)]]\n",
    "                    results[song_idx] = np.array(this_score)\n",
    "                    song_idx += 1\n",
    "                except TypeError:\n",
    "                    print(f\"Error in test at song {key}, {track}\")\n",
    "    \n",
    "            except FileNotFoundError:\n",
    "                print(f\"{key} not found, normal ?\")\n",
    "\n",
    "    print(f\"Tested on {song_idx} songs\")\n",
    "    lines = np.array([\"Precision 0.5\", \"Recall 0.5\", \"F measure 0.5\",\"Precision 3\", \"Recall 3\", \"F measure 3\"])  \n",
    "    results_cropped = results[:song_idx]\n",
    "    #display(pd.DataFrame([round(np.mean(results_cropped[:,0, 0]),5), round(np.mean(results_cropped[:, 0,1]),5), round(np.mean(results_cropped[:, 0,2]),5), round(np.mean(results_cropped[:,1, 0]),5), round(np.mean(results_cropped[:, 1,1]),5), round(np.mean(results_cropped[:, 1,2]),5)], columns=[\"Barwise FT\"], index=lines).T)\n",
    "    return lengths, np.array([[round(np.mean(results_cropped[:,0, 0]),5), round(np.mean(results_cropped[:, 0,1]),5), round(np.mean(results_cropped[:, 0,2]),5)], [round(np.mean(results_cropped[:,1, 0]),5), round(np.mean(results_cropped[:, 1,1]),5), round(np.mean(results_cropped[:, 1,2]),5)]])\n",
    "\n",
    "def get_segment_sizes_repartition_from_autosimilarity_penalty_arg(autosimilarity, bars, references_segments, penalty_func, lambda_penalty, bands_number = 15):\n",
    "    lengths = []\n",
    "    segments = CBM.compute_cbm(autosimilarity, penalty_weight = lambda_penalty, penalty_func = penalty_func, bands_number = bands_number)[0]                \n",
    "    for end, start in segments:\n",
    "        lengths.append(start - end)\n",
    "    print(lengths)\n",
    "    return lengths"
   ]
  },
  {
   "cell_type": "code",
   "execution_count": 4,
   "id": "680d6d67",
   "metadata": {
    "ExecuteTime": {
     "end_time": "2022-10-01T15:43:57.271566Z",
     "start_time": "2022-10-01T15:43:57.244650Z"
    }
   },
   "outputs": [],
   "source": [
    "def plot_kernels_as(results_diff_as, kernels_or_features, autosimilarities, tol, title = None):\n",
    "    # Order results_diff_as: kernels ou features, as, tol\n",
    "    subaxis = autosimilarities\n",
    "    plt.rcParams.update({'font.size': 14})\n",
    "    \n",
    "    width=0.25\n",
    "    gap = (len(autosimilarities) + 1)*width\n",
    "    colors = [\"#62d5b4\", \"#317373\", \"#184a4a\"]#['skyblue', 'steelblue', 'darkorange', 'brown']\n",
    "    \n",
    "    fig, ax = plt.subplots(1, 1, figsize=(11,4))\n",
    "    ax.set_ylim( 25, 100 )\n",
    "    tab = []\n",
    "    current_start = 0\n",
    "    for i in range(len(autosimilarities)):\n",
    "        indexes = [current_start + j*gap for j in range(len(kernels_or_features))]\n",
    "        tab.append(ax.bar(indexes, results_diff_as[:,i,tol], color=colors[i], width=width, align='edge'))\n",
    "        for idx_x, x in enumerate(indexes):\n",
    "            height = results_diff_as[idx_x, i, tol] \n",
    "            plt.text(x +width/2,height + 2, f\"{height}%\", ha='center', va='bottom', rotation = 90)\n",
    "        current_start += width\n",
    "\n",
    "    ax.set_xticks([current_start/2 + j*gap for j in range(len(kernels_or_features))])\n",
    "    ax.set_xticklabels(kernels_or_features)\n",
    "    if tol == 1:\n",
    "        ax.legend(labels=subaxis, loc='lower right')\n",
    "    else:\n",
    "        ax.legend(labels=subaxis, loc='upper right')\n",
    "\n",
    "    ax.set_ylabel(\"F measure (percentage)\")\n",
    "    #fig.savefig(\"C:/Users/amarmore/Desktop/Mes papiers/figures/results_barcomp_05.pdf\", bbox_inches = \"tight\")#, format='png')\n",
    "    if title != None:\n",
    "        plt.title(title)\n",
    "    plt.show()"
   ]
  },
  {
   "cell_type": "code",
   "execution_count": null,
   "id": "0e5a2684",
   "metadata": {
    "ExecuteTime": {
     "start_time": "2022-10-01T15:45:26.608Z"
    },
    "scrolled": false
   },
   "outputs": [
    {
     "name": "stdout",
     "output_type": "stream",
     "text": [
      "Kernel: 15\n",
      "Log Mel\n",
      "Nope\n",
      "Autosimilarity type: RBF\n",
      "70 not found, normal ?\n",
      "Tested on 486 songs\n"
     ]
    },
    {
     "data": {
      "image/png": "[encoded data removed]",
      "text/plain": [
       "<Figure size 432x270 with 1 Axes>"
      ]
     },
     "metadata": {
      "needs_background": "light"
     },
     "output_type": "display_data"
    },
    {
     "data": {
      "text/html": [
       "<style  type=\"text/css\" >\n",
       "    #T_4cbe0db4_41a0_11ed_9c29_907841dfbba9row0_col2 {\n",
       "            width:  10em;\n",
       "             height:  80%;\n",
       "        }    #T_4cbe0db4_41a0_11ed_9c29_907841dfbba9row0_col5 {\n",
       "            width:  10em;\n",
       "             height:  80%;\n",
       "        }</style><table id=\"T_4cbe0db4_41a0_11ed_9c29_907841dfbba9\" ><thead>    <tr>        <th class=\"blank level0\" ></th>        <th class=\"col_heading level0 col0\" >P0.5</th>        <th class=\"col_heading level0 col1\" >R0.5</th>        <th class=\"col_heading level0 col2\" >F0.5</th>        <th class=\"col_heading level0 col3\" >P3</th>        <th class=\"col_heading level0 col4\" >R3</th>        <th class=\"col_heading level0 col5\" >F3</th>    </tr></thead><tbody>\n",
       "                <tr>\n",
       "                        <th id=\"T_4cbe0db4_41a0_11ed_9c29_907841dfbba9level0_row0\" class=\"row_heading level0 row0\" >Autosimilarity: RBF</th>\n",
       "                        <td id=\"T_4cbe0db4_41a0_11ed_9c29_907841dfbba9row0_col0\" class=\"data row0 col0\" >0.408420</td>\n",
       "                        <td id=\"T_4cbe0db4_41a0_11ed_9c29_907841dfbba9row0_col1\" class=\"data row0 col1\" >0.494540</td>\n",
       "                        <td id=\"T_4cbe0db4_41a0_11ed_9c29_907841dfbba9row0_col2\" class=\"data row0 col2\" >0.435870</td>\n",
       "                        <td id=\"T_4cbe0db4_41a0_11ed_9c29_907841dfbba9row0_col3\" class=\"data row0 col3\" >0.594280</td>\n",
       "                        <td id=\"T_4cbe0db4_41a0_11ed_9c29_907841dfbba9row0_col4\" class=\"data row0 col4\" >0.722360</td>\n",
       "                        <td id=\"T_4cbe0db4_41a0_11ed_9c29_907841dfbba9row0_col5\" class=\"data row0 col5\" >0.635510</td>\n",
       "            </tr>\n",
       "    </tbody></table>"
      ],
      "text/plain": [
       "<pandas.io.formats.style.Styler at 0x1ec7d248670>"
      ]
     },
     "metadata": {},
     "output_type": "display_data"
    },
    {
     "name": "stdout",
     "output_type": "stream",
     "text": [
      "target_deviation_8_alpha_half\n",
      "Autosimilarity type: RBF\n",
      "710 not found, normal ?\n",
      "716 not found, normal ?\n",
      "1248 not found, normal ?\n",
      "722 not found, normal ?\n",
      "720 not found, normal ?\n",
      "711 not found, normal ?\n",
      "718 not found, normal ?\n",
      "717 not found, normal ?\n",
      "63 not found, normal ?\n",
      "719 not found, normal ?\n",
      "714 not found, normal ?\n",
      "709 not found, normal ?\n",
      "261 not found, normal ?\n",
      "724 not found, normal ?\n",
      "878 not found, normal ?\n",
      "712 not found, normal ?\n",
      "715 not found, normal ?\n",
      "723 not found, normal ?\n",
      "Best lambda: 0.2\n",
      "70 not found, normal ?\n",
      "Tested on 486 songs\n"
     ]
    },
    {
     "data": {
      "image/png": "[encoded data removed]",
      "text/plain": [
       "<Figure size 432x270 with 1 Axes>"
      ]
     },
     "metadata": {
      "needs_background": "light"
     },
     "output_type": "display_data"
    },
    {
     "data": {
      "text/html": [
       "<style  type=\"text/css\" >\n",
       "    #T_eeab2d09_41a1_11ed_83d6_907841dfbba9row0_col2 {\n",
       "            width:  10em;\n",
       "             height:  80%;\n",
       "        }    #T_eeab2d09_41a1_11ed_83d6_907841dfbba9row0_col5 {\n",
       "            width:  10em;\n",
       "             height:  80%;\n",
       "        }</style><table id=\"T_eeab2d09_41a1_11ed_83d6_907841dfbba9\" ><thead>    <tr>        <th class=\"blank level0\" ></th>        <th class=\"col_heading level0 col0\" >P0.5</th>        <th class=\"col_heading level0 col1\" >R0.5</th>        <th class=\"col_heading level0 col2\" >F0.5</th>        <th class=\"col_heading level0 col3\" >P3</th>        <th class=\"col_heading level0 col4\" >R3</th>        <th class=\"col_heading level0 col5\" >F3</th>    </tr></thead><tbody>\n",
       "                <tr>\n",
       "                        <th id=\"T_eeab2d09_41a1_11ed_83d6_907841dfbba9level0_row0\" class=\"row_heading level0 row0\" >Autosimilarity: RBF</th>\n",
       "                        <td id=\"T_eeab2d09_41a1_11ed_83d6_907841dfbba9row0_col0\" class=\"data row0 col0\" >0.413490</td>\n",
       "                        <td id=\"T_eeab2d09_41a1_11ed_83d6_907841dfbba9row0_col1\" class=\"data row0 col1\" >0.499630</td>\n",
       "                        <td id=\"T_eeab2d09_41a1_11ed_83d6_907841dfbba9row0_col2\" class=\"data row0 col2\" >0.439620</td>\n",
       "                        <td id=\"T_eeab2d09_41a1_11ed_83d6_907841dfbba9row0_col3\" class=\"data row0 col3\" >0.600700</td>\n",
       "                        <td id=\"T_eeab2d09_41a1_11ed_83d6_907841dfbba9row0_col4\" class=\"data row0 col4\" >0.726860</td>\n",
       "                        <td id=\"T_eeab2d09_41a1_11ed_83d6_907841dfbba9row0_col5\" class=\"data row0 col5\" >0.639250</td>\n",
       "            </tr>\n",
       "    </tbody></table>"
      ],
      "text/plain": [
       "<pandas.io.formats.style.Styler at 0x1ec7d1e7100>"
      ]
     },
     "metadata": {},
     "output_type": "display_data"
    },
    {
     "name": "stdout",
     "output_type": "stream",
     "text": [
      "target_deviation_8_alpha_one\n",
      "Autosimilarity type: RBF\n",
      "710 not found, normal ?\n",
      "716 not found, normal ?\n",
      "1248 not found, normal ?\n",
      "722 not found, normal ?\n",
      "720 not found, normal ?\n",
      "711 not found, normal ?\n",
      "718 not found, normal ?\n",
      "717 not found, normal ?\n",
      "63 not found, normal ?\n",
      "719 not found, normal ?\n",
      "714 not found, normal ?\n",
      "709 not found, normal ?\n",
      "261 not found, normal ?\n",
      "724 not found, normal ?\n",
      "878 not found, normal ?\n",
      "712 not found, normal ?\n",
      "715 not found, normal ?\n",
      "723 not found, normal ?\n",
      "Best lambda: 0.1\n",
      "70 not found, normal ?\n",
      "Tested on 486 songs\n"
     ]
    },
    {
     "data": {
      "image/png": "[encoded data removed]",
      "text/plain": [
       "<Figure size 432x270 with 1 Axes>"
      ]
     },
     "metadata": {
      "needs_background": "light"
     },
     "output_type": "display_data"
    },
    {
     "data": {
      "text/html": [
       "<style  type=\"text/css\" >\n",
       "    #T_2a9ea8b3_41a3_11ed_be79_907841dfbba9row0_col2 {\n",
       "            width:  10em;\n",
       "             height:  80%;\n",
       "        }    #T_2a9ea8b3_41a3_11ed_be79_907841dfbba9row0_col5 {\n",
       "            width:  10em;\n",
       "             height:  80%;\n",
       "        }</style><table id=\"T_2a9ea8b3_41a3_11ed_be79_907841dfbba9\" ><thead>    <tr>        <th class=\"blank level0\" ></th>        <th class=\"col_heading level0 col0\" >P0.5</th>        <th class=\"col_heading level0 col1\" >R0.5</th>        <th class=\"col_heading level0 col2\" >F0.5</th>        <th class=\"col_heading level0 col3\" >P3</th>        <th class=\"col_heading level0 col4\" >R3</th>        <th class=\"col_heading level0 col5\" >F3</th>    </tr></thead><tbody>\n",
       "                <tr>\n",
       "                        <th id=\"T_2a9ea8b3_41a3_11ed_be79_907841dfbba9level0_row0\" class=\"row_heading level0 row0\" >Autosimilarity: RBF</th>\n",
       "                        <td id=\"T_2a9ea8b3_41a3_11ed_be79_907841dfbba9row0_col0\" class=\"data row0 col0\" >0.388540</td>\n",
       "                        <td id=\"T_2a9ea8b3_41a3_11ed_be79_907841dfbba9row0_col1\" class=\"data row0 col1\" >0.501040</td>\n",
       "                        <td id=\"T_2a9ea8b3_41a3_11ed_be79_907841dfbba9row0_col2\" class=\"data row0 col2\" >0.425480</td>\n",
       "                        <td id=\"T_2a9ea8b3_41a3_11ed_be79_907841dfbba9row0_col3\" class=\"data row0 col3\" >0.569220</td>\n",
       "                        <td id=\"T_2a9ea8b3_41a3_11ed_be79_907841dfbba9row0_col4\" class=\"data row0 col4\" >0.740010</td>\n",
       "                        <td id=\"T_2a9ea8b3_41a3_11ed_be79_907841dfbba9row0_col5\" class=\"data row0 col5\" >0.625410</td>\n",
       "            </tr>\n",
       "    </tbody></table>"
      ],
      "text/plain": [
       "<pandas.io.formats.style.Styler at 0x1ec7cc5d580>"
      ]
     },
     "metadata": {},
     "output_type": "display_data"
    },
    {
     "name": "stdout",
     "output_type": "stream",
     "text": [
      "target_deviation_8_alpha_two\n",
      "Autosimilarity type: RBF\n",
      "710 not found, normal ?\n",
      "716 not found, normal ?\n",
      "1248 not found, normal ?\n",
      "722 not found, normal ?\n",
      "720 not found, normal ?\n",
      "711 not found, normal ?\n",
      "718 not found, normal ?\n",
      "717 not found, normal ?\n",
      "63 not found, normal ?\n",
      "719 not found, normal ?\n",
      "714 not found, normal ?\n",
      "709 not found, normal ?\n",
      "261 not found, normal ?\n",
      "724 not found, normal ?\n",
      "878 not found, normal ?\n",
      "712 not found, normal ?\n",
      "715 not found, normal ?\n",
      "723 not found, normal ?\n",
      "Best lambda: 0.1\n",
      "70 not found, normal ?\n",
      "Tested on 486 songs\n"
     ]
    },
    {
     "data": {
      "image/png": "[encoded data removed]",
      "text/plain": [
       "<Figure size 432x270 with 1 Axes>"
      ]
     },
     "metadata": {
      "needs_background": "light"
     },
     "output_type": "display_data"
    },
    {
     "data": {
      "text/html": [
       "<style  type=\"text/css\" >\n",
       "    #T_4fa43699_41a4_11ed_abcf_907841dfbba9row0_col2 {\n",
       "            width:  10em;\n",
       "             height:  80%;\n",
       "        }    #T_4fa43699_41a4_11ed_abcf_907841dfbba9row0_col5 {\n",
       "            width:  10em;\n",
       "             height:  80%;\n",
       "        }</style><table id=\"T_4fa43699_41a4_11ed_abcf_907841dfbba9\" ><thead>    <tr>        <th class=\"blank level0\" ></th>        <th class=\"col_heading level0 col0\" >P0.5</th>        <th class=\"col_heading level0 col1\" >R0.5</th>        <th class=\"col_heading level0 col2\" >F0.5</th>        <th class=\"col_heading level0 col3\" >P3</th>        <th class=\"col_heading level0 col4\" >R3</th>        <th class=\"col_heading level0 col5\" >F3</th>    </tr></thead><tbody>\n",
       "                <tr>\n",
       "                        <th id=\"T_4fa43699_41a4_11ed_abcf_907841dfbba9level0_row0\" class=\"row_heading level0 row0\" >Autosimilarity: RBF</th>\n",
       "                        <td id=\"T_4fa43699_41a4_11ed_abcf_907841dfbba9row0_col0\" class=\"data row0 col0\" >0.333980</td>\n",
       "                        <td id=\"T_4fa43699_41a4_11ed_abcf_907841dfbba9row0_col1\" class=\"data row0 col1\" >0.470760</td>\n",
       "                        <td id=\"T_4fa43699_41a4_11ed_abcf_907841dfbba9row0_col2\" class=\"data row0 col2\" >0.378440</td>\n",
       "                        <td id=\"T_4fa43699_41a4_11ed_abcf_907841dfbba9row0_col3\" class=\"data row0 col3\" >0.511060</td>\n",
       "                        <td id=\"T_4fa43699_41a4_11ed_abcf_907841dfbba9row0_col4\" class=\"data row0 col4\" >0.721760</td>\n",
       "                        <td id=\"T_4fa43699_41a4_11ed_abcf_907841dfbba9row0_col5\" class=\"data row0 col5\" >0.579550</td>\n",
       "            </tr>\n",
       "    </tbody></table>"
      ],
      "text/plain": [
       "<pandas.io.formats.style.Styler at 0x1ec7ce53fd0>"
      ]
     },
     "metadata": {},
     "output_type": "display_data"
    },
    {
     "name": "stdout",
     "output_type": "stream",
     "text": [
      "modulo8\n",
      "Autosimilarity type: RBF\n",
      "710 not found, normal ?\n",
      "716 not found, normal ?\n",
      "1248 not found, normal ?\n",
      "722 not found, normal ?\n",
      "720 not found, normal ?\n",
      "711 not found, normal ?\n",
      "718 not found, normal ?\n",
      "717 not found, normal ?\n",
      "63 not found, normal ?\n",
      "719 not found, normal ?\n",
      "714 not found, normal ?\n",
      "709 not found, normal ?\n",
      "261 not found, normal ?\n",
      "724 not found, normal ?\n",
      "878 not found, normal ?\n",
      "712 not found, normal ?\n",
      "715 not found, normal ?\n",
      "723 not found, normal ?\n",
      "Best lambda: 0.2\n",
      "70 not found, normal ?\n",
      "Tested on 486 songs\n"
     ]
    },
    {
     "data": {
      "image/png": "[encoded data removed]",
      "text/plain": [
       "<Figure size 432x270 with 1 Axes>"
      ]
     },
     "metadata": {
      "needs_background": "light"
     },
     "output_type": "display_data"
    },
    {
     "data": {
      "text/html": [
       "<style  type=\"text/css\" >\n",
       "    #T_2b9a8c5c_41a5_11ed_bc58_907841dfbba9row0_col2 {\n",
       "            width:  10em;\n",
       "             height:  80%;\n",
       "        }    #T_2b9a8c5c_41a5_11ed_bc58_907841dfbba9row0_col5 {\n",
       "            width:  10em;\n",
       "             height:  80%;\n",
       "        }</style><table id=\"T_2b9a8c5c_41a5_11ed_bc58_907841dfbba9\" ><thead>    <tr>        <th class=\"blank level0\" ></th>        <th class=\"col_heading level0 col0\" >P0.5</th>        <th class=\"col_heading level0 col1\" >R0.5</th>        <th class=\"col_heading level0 col2\" >F0.5</th>        <th class=\"col_heading level0 col3\" >P3</th>        <th class=\"col_heading level0 col4\" >R3</th>        <th class=\"col_heading level0 col5\" >F3</th>    </tr></thead><tbody>\n",
       "                <tr>\n",
       "                        <th id=\"T_2b9a8c5c_41a5_11ed_bc58_907841dfbba9level0_row0\" class=\"row_heading level0 row0\" >Autosimilarity: RBF</th>\n",
       "                        <td id=\"T_2b9a8c5c_41a5_11ed_bc58_907841dfbba9row0_col0\" class=\"data row0 col0\" >0.425590</td>\n",
       "                        <td id=\"T_2b9a8c5c_41a5_11ed_bc58_907841dfbba9row0_col1\" class=\"data row0 col1\" >0.502960</td>\n",
       "                        <td id=\"T_2b9a8c5c_41a5_11ed_bc58_907841dfbba9row0_col2\" class=\"data row0 col2\" >0.449400</td>\n",
       "                        <td id=\"T_2b9a8c5c_41a5_11ed_bc58_907841dfbba9row0_col3\" class=\"data row0 col3\" >0.596590</td>\n",
       "                        <td id=\"T_2b9a8c5c_41a5_11ed_bc58_907841dfbba9row0_col4\" class=\"data row0 col4\" >0.709880</td>\n",
       "                        <td id=\"T_2b9a8c5c_41a5_11ed_bc58_907841dfbba9row0_col5\" class=\"data row0 col5\" >0.631810</td>\n",
       "            </tr>\n",
       "    </tbody></table>"
      ],
      "text/plain": [
       "<pandas.io.formats.style.Styler at 0x1ec02009040>"
      ]
     },
     "metadata": {},
     "output_type": "display_data"
    },
    {
     "data": {
      "image/png": "[encoded data removed]",
      "text/plain": [
       "<Figure size 792x288 with 1 Axes>"
      ]
     },
     "metadata": {
      "needs_background": "light"
     },
     "output_type": "display_data"
    },
    {
     "data": {
      "image/png": "[encoded data removed]",
      "text/plain": [
       "<Figure size 792x288 with 1 Axes>"
      ]
     },
     "metadata": {
      "needs_background": "light"
     },
     "output_type": "display_data"
    },
    {
     "name": "stdout",
     "output_type": "stream",
     "text": [
      "---------------\n",
      "------------\n",
      "------------\n",
      "------------\n",
      "------------\n",
      "Kernel: None\n",
      "Log Mel\n",
      "Nope\n",
      "Autosimilarity type: RBF\n",
      "70 not found, normal ?\n",
      "Tested on 486 songs\n"
     ]
    },
    {
     "data": {
      "image/png": "[encoded data removed]",
      "text/plain": [
       "<Figure size 432x270 with 1 Axes>"
      ]
     },
     "metadata": {
      "needs_background": "light"
     },
     "output_type": "display_data"
    },
    {
     "data": {
      "text/html": [
       "<style  type=\"text/css\" >\n",
       "    #T_498f6c6c_41a5_11ed_9a5b_907841dfbba9row0_col2 {\n",
       "            width:  10em;\n",
       "             height:  80%;\n",
       "        }    #T_498f6c6c_41a5_11ed_9a5b_907841dfbba9row0_col5 {\n",
       "            width:  10em;\n",
       "             height:  80%;\n",
       "        }</style><table id=\"T_498f6c6c_41a5_11ed_9a5b_907841dfbba9\" ><thead>    <tr>        <th class=\"blank level0\" ></th>        <th class=\"col_heading level0 col0\" >P0.5</th>        <th class=\"col_heading level0 col1\" >R0.5</th>        <th class=\"col_heading level0 col2\" >F0.5</th>        <th class=\"col_heading level0 col3\" >P3</th>        <th class=\"col_heading level0 col4\" >R3</th>        <th class=\"col_heading level0 col5\" >F3</th>    </tr></thead><tbody>\n",
       "                <tr>\n",
       "                        <th id=\"T_498f6c6c_41a5_11ed_9a5b_907841dfbba9level0_row0\" class=\"row_heading level0 row0\" >Autosimilarity: RBF</th>\n",
       "                        <td id=\"T_498f6c6c_41a5_11ed_9a5b_907841dfbba9row0_col0\" class=\"data row0 col0\" >0.442220</td>\n",
       "                        <td id=\"T_498f6c6c_41a5_11ed_9a5b_907841dfbba9row0_col1\" class=\"data row0 col1\" >0.459870</td>\n",
       "                        <td id=\"T_498f6c6c_41a5_11ed_9a5b_907841dfbba9row0_col2\" class=\"data row0 col2\" >0.437460</td>\n",
       "                        <td id=\"T_498f6c6c_41a5_11ed_9a5b_907841dfbba9row0_col3\" class=\"data row0 col3\" >0.628380</td>\n",
       "                        <td id=\"T_498f6c6c_41a5_11ed_9a5b_907841dfbba9row0_col4\" class=\"data row0 col4\" >0.658760</td>\n",
       "                        <td id=\"T_498f6c6c_41a5_11ed_9a5b_907841dfbba9row0_col5\" class=\"data row0 col5\" >0.624090</td>\n",
       "            </tr>\n",
       "    </tbody></table>"
      ],
      "text/plain": [
       "<pandas.io.formats.style.Styler at 0x1ec02eba1c0>"
      ]
     },
     "metadata": {},
     "output_type": "display_data"
    },
    {
     "name": "stdout",
     "output_type": "stream",
     "text": [
      "target_deviation_8_alpha_half\n",
      "Autosimilarity type: RBF\n",
      "710 not found, normal ?\n",
      "716 not found, normal ?\n",
      "1248 not found, normal ?\n",
      "722 not found, normal ?\n",
      "720 not found, normal ?\n",
      "711 not found, normal ?\n",
      "718 not found, normal ?\n",
      "717 not found, normal ?\n",
      "63 not found, normal ?\n",
      "719 not found, normal ?\n",
      "714 not found, normal ?\n",
      "709 not found, normal ?\n",
      "261 not found, normal ?\n",
      "724 not found, normal ?\n",
      "878 not found, normal ?\n",
      "712 not found, normal ?\n",
      "715 not found, normal ?\n",
      "723 not found, normal ?\n",
      "Best lambda: 0.2\n",
      "70 not found, normal ?\n",
      "Tested on 486 songs\n"
     ]
    },
    {
     "data": {
      "image/png": "[encoded data removed]",
      "text/plain": [
       "<Figure size 432x270 with 1 Axes>"
      ]
     },
     "metadata": {
      "needs_background": "light"
     },
     "output_type": "display_data"
    },
    {
     "data": {
      "text/html": [
       "<style  type=\"text/css\" >\n",
       "    #T_0bb3eae4_41a6_11ed_a135_907841dfbba9row0_col2 {\n",
       "            width:  10em;\n",
       "             height:  80%;\n",
       "        }    #T_0bb3eae4_41a6_11ed_a135_907841dfbba9row0_col5 {\n",
       "            width:  10em;\n",
       "             height:  80%;\n",
       "        }</style><table id=\"T_0bb3eae4_41a6_11ed_a135_907841dfbba9\" ><thead>    <tr>        <th class=\"blank level0\" ></th>        <th class=\"col_heading level0 col0\" >P0.5</th>        <th class=\"col_heading level0 col1\" >R0.5</th>        <th class=\"col_heading level0 col2\" >F0.5</th>        <th class=\"col_heading level0 col3\" >P3</th>        <th class=\"col_heading level0 col4\" >R3</th>        <th class=\"col_heading level0 col5\" >F3</th>    </tr></thead><tbody>\n",
       "                <tr>\n",
       "                        <th id=\"T_0bb3eae4_41a6_11ed_a135_907841dfbba9level0_row0\" class=\"row_heading level0 row0\" >Autosimilarity: RBF</th>\n",
       "                        <td id=\"T_0bb3eae4_41a6_11ed_a135_907841dfbba9row0_col0\" class=\"data row0 col0\" >0.450610</td>\n",
       "                        <td id=\"T_0bb3eae4_41a6_11ed_a135_907841dfbba9row0_col1\" class=\"data row0 col1\" >0.459590</td>\n",
       "                        <td id=\"T_0bb3eae4_41a6_11ed_a135_907841dfbba9row0_col2\" class=\"data row0 col2\" >0.441760</td>\n",
       "                        <td id=\"T_0bb3eae4_41a6_11ed_a135_907841dfbba9row0_col3\" class=\"data row0 col3\" >0.638580</td>\n",
       "                        <td id=\"T_0bb3eae4_41a6_11ed_a135_907841dfbba9row0_col4\" class=\"data row0 col4\" >0.655120</td>\n",
       "                        <td id=\"T_0bb3eae4_41a6_11ed_a135_907841dfbba9row0_col5\" class=\"data row0 col5\" >0.627790</td>\n",
       "            </tr>\n",
       "    </tbody></table>"
      ],
      "text/plain": [
       "<pandas.io.formats.style.Styler at 0x1ec02ec6490>"
      ]
     },
     "metadata": {},
     "output_type": "display_data"
    },
    {
     "name": "stdout",
     "output_type": "stream",
     "text": [
      "target_deviation_8_alpha_one\n",
      "Autosimilarity type: RBF\n",
      "710 not found, normal ?\n",
      "716 not found, normal ?\n",
      "1248 not found, normal ?\n",
      "722 not found, normal ?\n",
      "720 not found, normal ?\n",
      "711 not found, normal ?\n",
      "718 not found, normal ?\n",
      "717 not found, normal ?\n",
      "63 not found, normal ?\n",
      "719 not found, normal ?\n",
      "714 not found, normal ?\n",
      "709 not found, normal ?\n",
      "261 not found, normal ?\n",
      "724 not found, normal ?\n",
      "878 not found, normal ?\n",
      "712 not found, normal ?\n",
      "715 not found, normal ?\n",
      "723 not found, normal ?\n",
      "Best lambda: 0.1\n"
     ]
    }
   ],
   "source": [
    "for band_idx in range(len(bands_numbers)):\n",
    "    bands_number = bands_numbers[band_idx]\n",
    "    print(f\"Kernel: {bands_number}\")\n",
    "\n",
    "    res_avg_target = math.inf * np.ones((len(penalty_functions), len(autosimilarity_types), 2, 3))\n",
    "\n",
    "    # Log MEL\n",
    "    print(\"Log Mel\")\n",
    "\n",
    "    for idx_pf, pen_func in enumerate(penalty_functions):\n",
    "        print(pen_func)\n",
    "        indexes = []\n",
    "        results_this_function = math.inf * np.ones((len(autosimilarity_types), 2, 3))\n",
    "        if pen_func == \"Nope\":\n",
    "            for idx_as, autosimil_type in enumerate(autosimilarity_types):\n",
    "                print(f\"Autosimilarity type: {autosimil_type}\")\n",
    "                res = compute_this_penalty_lambda_fitting(\"modulo8\", [0], autosimilarity_type = autosimil_type, feature = feature, bands_number = bands_number)\n",
    "                results_this_function[idx_as] = res\n",
    "                indexes.append(f\"Autosimilarity: {autosimil_type}\")\n",
    "\n",
    "        else:\n",
    "            for idx_as, autosimil_type in enumerate(autosimilarity_types):\n",
    "                print(f\"Autosimilarity type: {autosimil_type}\")\n",
    "                res = compute_this_penalty_lambda_fitting(pen_func, lambda_range, autosimilarity_type = autosimil_type, feature = feature, bands_number = bands_number)\n",
    "                results_this_function[idx_as] = res\n",
    "                indexes.append(f\"Autosimilarity: {autosimil_type}\")\n",
    "        res_avg_target[idx_pf] = results_this_function\n",
    "        dataframe = pd.DataFrame(results_this_function.reshape(results_this_function.shape[0], 6), columns = ['P0.5', 'R0.5', 'F0.5','P3', 'R3', 'F3'], index = indexes)\n",
    "        display(dataframe.style.bar(subset=[\"F0.5\",\"F3\"], color='#5fba7d'))\n",
    "    plot_kernels_as(np.round(100 * res_avg_target[:,:,:,2], decimals = 2), penalty_functions_labels, autosimilarity_types, 0, title = f\"F0.5 on RWC Pop, 14 bands kernel.\")\n",
    "    plot_kernels_as(np.round(100 * res_avg_target[:,:,:,2], decimals = 2), penalty_functions_labels, autosimilarity_types, 1, title = f\"F3 on RWC Pop, 14 bands kernel.\")\n",
    "    print(\"---------------\\n------------\\n------------\\n------------\\n------------\")"
   ]
  },
  {
   "cell_type": "code",
   "execution_count": null,
   "id": "bdb7cc74",
   "metadata": {
    "ExecuteTime": {
     "end_time": "2022-10-01T15:43:58.269897Z",
     "start_time": "2022-10-01T15:43:58.269897Z"
    }
   },
   "outputs": [],
   "source": [
    "plot_kernels_as(np.round(100 * res_avg_target[:,:,:,2], decimals = 2), penalty_functions_labels, autosimilarity_types, 0, title = f\"F0.5 with the full kernel on SALAMI\")\n",
    "plot_kernels_as(np.round(100 * res_avg_target[:,:,:,2], decimals = 2), penalty_functions_labels, autosimilarity_types, 1, title = f\"F3 with the full kernel on SALAMI\")\n",
    "    "
   ]
  }
 ],
 "metadata": {
  "kernelspec": {
   "display_name": "Python 3 (ipykernel)",
   "language": "python",
   "name": "python3"
  },
  "language_info": {
   "codemirror_mode": {
    "name": "ipython",
    "version": 3
   },
   "file_extension": ".py",
   "mimetype": "text/x-python",
   "name": "python",
   "nbconvert_exporter": "python",
   "pygments_lexer": "ipython3",
   "version": "3.8.12"
  },
  "toc": {
   "base_numbering": 1,
   "nav_menu": {},
   "number_sections": true,
   "sideBar": true,
   "skip_h1_title": false,
   "title_cell": "Table of Contents",
   "title_sidebar": "Contents",
   "toc_cell": false,
   "toc_position": {},
   "toc_section_display": true,
   "toc_window_display": false
  },
  "varInspector": {
   "cols": {
    "lenName": 16,
    "lenType": 16,
    "lenVar": 40
   },
   "kernels_config": {
    "python": {
     "delete_cmd_postfix": "",
     "delete_cmd_prefix": "del ",
     "library": "var_list.py",
     "varRefreshCmd": "print(var_dic_list())"
    },
    "r": {
     "delete_cmd_postfix": ") ",
     "delete_cmd_prefix": "rm(",
     "library": "var_list.r",
     "varRefreshCmd": "cat(var_dic_list()) "
    }
   },
   "types_to_exclude": [
    "module",
    "function",
    "builtin_function_or_method",
    "instance",
    "_Feature"
   ],
   "window_display": false
  }
 },
 "nbformat": 4,
 "nbformat_minor": 5
}
