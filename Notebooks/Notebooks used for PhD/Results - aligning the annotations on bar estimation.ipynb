{
 "cells": [
  {
   "cell_type": "code",
   "execution_count": null,
   "id": "1780deae",
   "metadata": {
    "ExecuteTime": {
     "end_time": "2022-08-22T15:33:02.498670Z",
     "start_time": "2022-08-22T15:32:27.500199Z"
    }
   },
   "outputs": [],
   "source": [
    "import as_seg.scripts.overall_scripts as scr\n",
    "import as_seg.data_manipulation as dm\n",
    "from as_seg.model.current_plot import *\n",
    "\n",
    "import numpy as np\n",
    "import math"
   ]
  },
  {
   "cell_type": "markdown",
   "id": "6eb699e8",
   "metadata": {},
   "source": [
    "# RWC"
   ]
  },
  {
   "cell_type": "code",
   "execution_count": 1,
   "id": "051cac2b",
   "metadata": {
    "ExecuteTime": {
     "end_time": "2022-08-22T15:33:02.498670Z",
     "start_time": "2022-08-22T15:32:27.500199Z"
    }
   },
   "outputs": [
    {
     "name": "stdout",
     "output_type": "stream",
     "text": [
      "[0.964631, 0.9620820000000001, 0.963322]\n",
      "[1.0, 0.997298, 0.9986119999999999]\n"
     ]
    }
   ],
   "source": [
    "song_range = range(1,101)\n",
    "subdivision = 96\n",
    "hop_length = 32\n",
    "hop_length_seconds = hop_length/44100\n",
    "scores = math.inf * np.ones((len(song_range),2,3))\n",
    "for idx_song, song in enumerate(song_range):\n",
    "    bars, references_segments = scr.load_bar_annot_song_RWC(song, hop_length)\n",
    "\n",
    "    aligned_ref = dm.align_segments_on_bars(references_segments, bars)\n",
    "    \n",
    "    prec05, rap05, f_mes05 = dm.compute_score_of_segmentation(references_segments, aligned_ref, window_length = 0.5)\n",
    "    scores[idx_song, 0] = [round(prec05,4),round(rap05,4),round(f_mes05,4)]\n",
    "    prec3, rap3, f_mes3 = dm.compute_score_of_segmentation(references_segments, aligned_ref, window_length = 3)\n",
    "    scores[idx_song, 1] = [round(prec3,4),round(rap3,4),round(f_mes3,4)]\n",
    "\n",
    "print([np.mean(scores[:,0,i]) for i in range(3)])\n",
    "print([np.mean(scores[:,1,i]) for i in range(3)])"
   ]
  },
  {
   "cell_type": "markdown",
   "id": "b4033599",
   "metadata": {},
   "source": [
    "# SALAMI"
   ]
  },
  {
   "cell_type": "code",
   "execution_count": 2,
   "id": "44798cdd",
   "metadata": {
    "ExecuteTime": {
     "end_time": "2022-08-22T15:33:07.186313Z",
     "start_time": "2022-08-22T15:33:02.507648Z"
    }
   },
   "outputs": [
    {
     "name": "stdout",
     "output_type": "stream",
     "text": [
      "70 not found, normal ?\n",
      "[0.8288528925619835, 0.8285099173553719, 0.8286756198347107]\n",
      "[0.9994677685950413, 0.9990867768595041, 0.9992706611570248]\n",
      "[0.8193873853211008, 0.8188596330275228, 0.8191137614678898]\n",
      "[0.9996004587155963, 0.998784633027523, 0.9991766055045872]\n"
     ]
    }
   ],
   "source": [
    "import as_seg.scripts.default_path as paths\n",
    "import as_seg.scripts.overall_scripts as scr\n",
    "import as_seg.data_manipulation as dm\n",
    "\n",
    "import math\n",
    "import numpy as np\n",
    "import mirdata\n",
    "import os\n",
    "\n",
    "salami = mirdata.initialize('salami', data_home = paths.path_entire_salami)\n",
    "len_salami = len(salami.track_ids)\n",
    "scores_1 = math.inf * np.ones((len_salami,2,3))\n",
    "song_idx_1 = 0\n",
    "scores_2 = math.inf * np.ones((len_salami,2,3))\n",
    "song_idx_2 = 0\n",
    "\n",
    "all_tracks = salami.load_tracks()    \n",
    "file_mirex = open(f\"{os.getcwd()}/test_set_salami_gs.txt\")\n",
    "\n",
    "test_dataset = []\n",
    "for part in file_mirex.readlines():\n",
    "    line_broken = part.split(\"\\n\")\n",
    "    test_dataset.append(int(line_broken[0]))\n",
    "\n",
    "for key, track in all_tracks.items():\n",
    "    if int(key) in test_dataset: # Every file in the test dataset\n",
    "        try:\n",
    "            bars = scr.load_or_save_bars(paths.path_data_persisted_salami, track.audio_path)\n",
    "            try:\n",
    "                references_segments = salami.load_sections(track.sections_annotator1_uppercase_path).intervals\n",
    "                aligned_ref = dm.align_segments_on_bars(references_segments, bars)\n",
    "                prec05, rap05, f_mes05 = dm.compute_score_of_segmentation(references_segments, aligned_ref, window_length = 0.5)\n",
    "                scores_1[song_idx_1, 0] = [round(prec05,4),round(rap05,4),round(f_mes05,4)]\n",
    "                prec3, rap3, f_mes3 = dm.compute_score_of_segmentation(references_segments, aligned_ref, window_length = 3)\n",
    "                scores_1[song_idx_1, 1] = [round(prec3,4),round(rap3,4),round(f_mes3,4)]\n",
    "                song_idx_1 += 1\n",
    "            except (TypeError, AttributeError):\n",
    "                pass\n",
    "\n",
    "            try:\n",
    "                references_segments = salami.load_sections(track.sections_annotator2_uppercase_path).intervals\n",
    "                aligned_ref = dm.align_segments_on_bars(references_segments, bars)\n",
    "\n",
    "                prec05, rap05, f_mes05 = dm.compute_score_of_segmentation(references_segments, aligned_ref, window_length = 0.5)\n",
    "                scores_2[song_idx_2, 0] = [round(prec05,4),round(rap05,4),round(f_mes05,4)]\n",
    "                prec3, rap3, f_mes3 = dm.compute_score_of_segmentation(references_segments, aligned_ref, window_length = 3)\n",
    "                scores_2[song_idx_2, 1] = [round(prec3,4),round(rap3,4),round(f_mes3,4)]\n",
    "                song_idx_2 += 1\n",
    "            except (TypeError, AttributeError):\n",
    "                pass\n",
    "        except FileNotFoundError:\n",
    "            print(f\"{key} not found, normal ?\")\n",
    "            \n",
    "print([np.mean(scores_1[:song_idx_1,0,i]) for i in range(3)])\n",
    "print([np.mean(scores_1[:song_idx_1,1,i]) for i in range(3)])\n",
    "\n",
    "print([np.mean(scores_2[:song_idx_2,0,i]) for i in range(3)])\n",
    "print([np.mean(scores_2[:song_idx_2,1,i]) for i in range(3)])\n"
   ]
  }
 ],
 "metadata": {
  "kernelspec": {
   "display_name": "Python 3 (ipykernel)",
   "language": "python",
   "name": "python3"
  },
  "language_info": {
   "codemirror_mode": {
    "name": "ipython",
    "version": 3
   },
   "file_extension": ".py",
   "mimetype": "text/x-python",
   "name": "python",
   "nbconvert_exporter": "python",
   "pygments_lexer": "ipython3",
   "version": "3.8.12"
  },
  "toc": {
   "base_numbering": 1,
   "nav_menu": {},
   "number_sections": true,
   "sideBar": true,
   "skip_h1_title": false,
   "title_cell": "Table of Contents",
   "title_sidebar": "Contents",
   "toc_cell": false,
   "toc_position": {},
   "toc_section_display": true,
   "toc_window_display": false
  },
  "varInspector": {
   "cols": {
    "lenName": 16,
    "lenType": 16,
    "lenVar": 40
   },
   "kernels_config": {
    "python": {
     "delete_cmd_postfix": "",
     "delete_cmd_prefix": "del ",
     "library": "var_list.py",
     "varRefreshCmd": "print(var_dic_list())"
    },
    "r": {
     "delete_cmd_postfix": ") ",
     "delete_cmd_prefix": "rm(",
     "library": "var_list.r",
     "varRefreshCmd": "cat(var_dic_list()) "
    }
   },
   "types_to_exclude": [
    "module",
    "function",
    "builtin_function_or_method",
    "instance",
    "_Feature"
   ],
   "window_display": false
  }
 },
 "nbformat": 4,
 "nbformat_minor": 5
}
